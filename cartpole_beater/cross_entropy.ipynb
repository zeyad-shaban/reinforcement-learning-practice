{
 "cells": [
  {
   "cell_type": "code",
   "execution_count": 115,
   "metadata": {},
   "outputs": [
    {
     "ename": "SyntaxError",
     "evalue": "invalid syntax (306953122.py, line 10)",
     "output_type": "error",
     "traceback": [
      "\u001b[0;36m  Cell \u001b[0;32mIn[115], line 10\u001b[0;36m\u001b[0m\n\u001b[0;31m    from IPython imoprt display\u001b[0m\n\u001b[0m                 ^\u001b[0m\n\u001b[0;31mSyntaxError\u001b[0m\u001b[0;31m:\u001b[0m invalid syntax\n"
     ]
    }
   ],
   "source": [
    "import torch\n",
    "import torch.nn as nn\n",
    "import torch.optim as optim\n",
    "import numpy as np\n",
    "import matplotlib.pyplot as plt\n",
    "import gymnasium as gym\n",
    "from dataclasses import dataclass\n",
    "from torch.utils.tensorboard import SummaryWriter\n",
    "import time\n",
    "from IPython import display"
   ]
  },
  {
   "cell_type": "code",
   "execution_count": 108,
   "metadata": {},
   "outputs": [],
   "source": [
    "# Parmas\n",
    "PERCENTILE = 70\n",
    "\n",
    "BATCH_SIZE = 16\n",
    "EPSILON = 0.5"
   ]
  },
  {
   "cell_type": "code",
   "execution_count": 110,
   "metadata": {},
   "outputs": [],
   "source": [
    "model = nn.Sequential(\n",
    "    nn.Linear(4, 100),\n",
    "    nn.ReLU(),\n",
    "\n",
    "    nn.Linear(100, 50),\n",
    "    nn.ReLU(),\n",
    "\n",
    "    nn.Linear(50, 1),\n",
    "    nn.Sigmoid()\n",
    ")"
   ]
  },
  {
   "cell_type": "code",
   "execution_count": 111,
   "metadata": {},
   "outputs": [],
   "source": [
    "@dataclass\n",
    "class Episode:\n",
    "    observations: list[list[float]]\n",
    "    actions: list[float]\n",
    "    reward: float"
   ]
  },
  {
   "cell_type": "code",
   "execution_count": 112,
   "metadata": {},
   "outputs": [
    {
     "data": {
      "text/plain": [
       "(array([-0.02835004, -0.01538559, -0.0235176 , -0.03983865], dtype=float32),\n",
       " {})"
      ]
     },
     "execution_count": 112,
     "metadata": {},
     "output_type": "execute_result"
    }
   ],
   "source": [
    "env = gym.make('CartPole-v0', render_mode='rgb_array')\n",
    "env.reset()"
   ]
  },
  {
   "cell_type": "code",
   "execution_count": 104,
   "metadata": {},
   "outputs": [],
   "source": [
    "criterion = nn.BCELoss()\n",
    "opt = optim.Adam(model.parameters(), lr=0.01)\n",
    "writer = SummaryWriter()"
   ]
  },
  {
   "cell_type": "code",
   "execution_count": 114,
   "metadata": {},
   "outputs": [
    {
     "name": "stdout",
     "output_type": "stream",
     "text": [
      "Epoch 0 mean: 13.6875 percentile: 14.5\n"
     ]
    },
    {
     "ename": "KeyboardInterrupt",
     "evalue": "",
     "output_type": "error",
     "traceback": [
      "\u001b[0;31m---------------------------------------------------------------------------\u001b[0m",
      "\u001b[0;31mKeyboardInterrupt\u001b[0m                         Traceback (most recent call last)",
      "Cell \u001b[0;32mIn[114], line 31\u001b[0m\n\u001b[1;32m     28\u001b[0m             \u001b[38;5;28;01mbreak\u001b[39;00m\n\u001b[1;32m     30\u001b[0m         env\u001b[38;5;241m.\u001b[39mrender()\n\u001b[0;32m---> 31\u001b[0m         \u001b[43mtime\u001b[49m\u001b[38;5;241;43m.\u001b[39;49m\u001b[43msleep\u001b[49m\u001b[43m(\u001b[49m\u001b[38;5;241;43m0.1\u001b[39;49m\u001b[43m)\u001b[49m\n\u001b[1;32m     33\u001b[0m     episodes\u001b[38;5;241m.\u001b[39mappend(episode)\n\u001b[1;32m     35\u001b[0m \u001b[38;5;66;03m# filter rewards\u001b[39;00m\n",
      "\u001b[0;31mKeyboardInterrupt\u001b[0m: "
     ]
    }
   ],
   "source": [
    "epochs = 100\n",
    "\n",
    "for epoch in range(epochs):\n",
    "    episodes: list[Episode] = []\n",
    "\n",
    "    for episode in range(BATCH_SIZE):\n",
    "        episode_reward = 0\n",
    "        obs, _ = env.reset()\n",
    "\n",
    "        episode = Episode(observations=[], actions=[], reward=0)\n",
    "\n",
    "        while True:\n",
    "            obs_t = torch.tensor(obs, dtype=torch.float32).view(1, -1)\n",
    "            action = int(torch.round(model(obs_t)).item())\n",
    "            if np.random.rand() < EPSILON:\n",
    "                action = np.random.randint(0, 2)\n",
    "                \n",
    "            new_obs, reward, terminated, truncated, _ = env.step(action)\n",
    "\n",
    "            episode.observations.append(obs)\n",
    "            episode.actions.append(action)\n",
    "            episode.reward += reward\n",
    "\n",
    "            episode_reward += reward\n",
    "            obs = new_obs\n",
    "\n",
    "            if terminated or truncated:\n",
    "                break\n",
    "\n",
    "            env.render()\n",
    "            time.sleep(0.1)\n",
    "        \n",
    "        episodes.append(episode)\n",
    "        \n",
    "    # filter rewards\n",
    "    rewards = [episode.reward for episode in episodes]\n",
    "    rewards_mean = np.mean(rewards)\n",
    "    percentile = np.percentile(rewards, PERCENTILE)\n",
    "\n",
    "    writer.add_scalar('rewards_mean', rewards_mean, epoch)\n",
    "    writer.add_scalar('percentile', percentile, epoch)\n",
    "    writer.flush()\n",
    "    \n",
    "    opt.zero_grad()\n",
    "    \n",
    "    for episode in episodes:\n",
    "        if episode.reward < percentile:\n",
    "            continue\n",
    "\n",
    "        obs_t = torch.tensor(episode.observations, dtype=torch.float32) # Bx4\n",
    "        act_t = torch.tensor(episode.actions, dtype=torch.float32) # Bx1\n",
    "\n",
    "        act_predicted = model(obs_t)\n",
    "        loss = criterion(act_predicted, act_t.view(-1, 1))\n",
    "\n",
    "        loss.backward()\n",
    "\n",
    "    opt.step()\n",
    "    \n",
    "    print(f'Epoch {epoch} mean: {rewards_mean} percentile: {percentile}')"
   ]
  },
  {
   "cell_type": "code",
   "execution_count": 52,
   "metadata": {},
   "outputs": [
    {
     "data": {
      "text/plain": [
       "1.0"
      ]
     },
     "execution_count": 52,
     "metadata": {},
     "output_type": "execute_result"
    }
   ],
   "source": [
    "l = np.array([1,1,1,1,1,1,1,10, 20, 30])\n",
    "np.percentile(l,30)"
   ]
  }
 ],
 "metadata": {
  "kernelspec": {
   "display_name": "pytorch_env",
   "language": "python",
   "name": "python3"
  },
  "language_info": {
   "codemirror_mode": {
    "name": "ipython",
    "version": 3
   },
   "file_extension": ".py",
   "mimetype": "text/x-python",
   "name": "python",
   "nbconvert_exporter": "python",
   "pygments_lexer": "ipython3",
   "version": "3.12.3"
  }
 },
 "nbformat": 4,
 "nbformat_minor": 2
}
