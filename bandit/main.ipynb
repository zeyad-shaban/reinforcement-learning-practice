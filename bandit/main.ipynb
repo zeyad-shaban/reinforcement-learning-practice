{
 "cells": [
  {
   "cell_type": "code",
   "execution_count": 5,
   "metadata": {},
   "outputs": [],
   "source": [
    "import numpy as np"
   ]
  },
  {
   "cell_type": "code",
   "execution_count": null,
   "metadata": {},
   "outputs": [],
   "source": []
  },
  {
   "cell_type": "code",
   "execution_count": 169,
   "metadata": {},
   "outputs": [],
   "source": [
    "class Env:\n",
    "    def __init__(self):\n",
    "        self.action_space = [0, 1, 2, 3]\n",
    "        self.rewards = [-2, 1, 3, -1]\n",
    "        self.std = 1\n",
    "\n",
    "    def step(self, action: int) -> int:\n",
    "        r = self.rewards[action]\n",
    "        return np.random.normal(r, self.std)\n",
    "\n",
    "\n",
    "class Bandit:\n",
    "    def __init__(self, env: Env):\n",
    "        self.env = env\n",
    "        self.action_space = env.action_space\n",
    "        self.q_table = {}\n",
    "        self.epsilon = 0.1\n",
    "        self.step_size = 0.1\n",
    "        self.q_init = 1e-8\n",
    "\n",
    "        for action in self.action_space:\n",
    "            self.q_table[action] = self.q_init\n",
    "\n",
    "    def get_action(self, epsilon=None):\n",
    "        if epsilon is None:\n",
    "            epsilon = self.epsilon\n",
    "\n",
    "        if np.random.rand() <= epsilon:\n",
    "            return np.random.randint(len(self.action_space))\n",
    "        else:\n",
    "            max_action = None\n",
    "            max_val = None\n",
    "\n",
    "            for action in self.action_space:\n",
    "                val = self.q_table[action]\n",
    "                if not max_action or not max_val or val > max_val:\n",
    "                    max_action = action\n",
    "                    max_val = val\n",
    "\n",
    "            return max_action\n",
    "\n",
    "    def pick_and_take_action(self):\n",
    "        action = self.get_action()\n",
    "        r = self.env.step(action)\n",
    "\n",
    "        old = self.q_table[action]\n",
    "        self.q_table[action] = old + self.step_size * (r - old)"
   ]
  },
  {
   "cell_type": "code",
   "execution_count": 170,
   "metadata": {},
   "outputs": [],
   "source": [
    "env = Env()\n",
    "bandit = Bandit(env)\n",
    "\n",
    "\n",
    "for i in range(100):\n",
    "    bandit.pick_and_take_action()"
   ]
  },
  {
   "cell_type": "code",
   "execution_count": null,
   "metadata": {},
   "outputs": [
    {
     "data": {
      "text/plain": [
       "2"
      ]
     },
     "execution_count": 174,
     "metadata": {},
     "output_type": "execute_result"
    }
   ],
   "source": []
  },
  {
   "cell_type": "code",
   "execution_count": null,
   "metadata": {},
   "outputs": [],
   "source": []
  }
 ],
 "metadata": {
  "kernelspec": {
   "display_name": "pytorch_env",
   "language": "python",
   "name": "python3"
  },
  "language_info": {
   "codemirror_mode": {
    "name": "ipython",
    "version": 3
   },
   "file_extension": ".py",
   "mimetype": "text/x-python",
   "name": "python",
   "nbconvert_exporter": "python",
   "pygments_lexer": "ipython3",
   "version": "3.12.3"
  }
 },
 "nbformat": 4,
 "nbformat_minor": 2
}
